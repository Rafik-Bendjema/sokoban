{
 "cells": [
  {
   "cell_type": "code",
   "execution_count": 5,
   "metadata": {},
   "outputs": [],
   "source": [
    "import pygame\n",
    "import sys"
   ]
  },
  {
   "cell_type": "code",
   "execution_count": 6,
   "metadata": {},
   "outputs": [],
   "source": [
    "def change_box_position(board , keyclicked ):\n",
    "    if keyclicked == \"up\":\n",
    "                if box_row > 0 and map[box_row - 1][box_col] == 'v':\n",
    "                    box_row -= 1  \n",
    "                \n",
    "    elif keyclicked== \"down\" and box_row < len(map) - 1 and map[box_row + 1][box_col] == 'v':\n",
    "                box_row += 1  \n",
    "    elif keyclicked == \"left\" and box_col > 0 and map[box_row][grid_col - 1] == 'v':\n",
    "                grid_col -= 1  \n",
    "    elif keyclicked == \"right\" and box_col < len(map[0]) - 1 and map[box_row][box_col + 1] == 'v':\n",
    "                grid_col += 1 \n",
    "                  \n",
    "    return (box_row  ,  box_col)"
   ]
  },
  {
   "cell_type": "code",
   "execution_count": 7,
   "metadata": {},
   "outputs": [],
   "source": [
    "def change_player_position(board , event ):\n",
    "    if event.key == pygame.K_UP :\n",
    "                if grid_row > 0 and map[grid_row - 1][grid_col] == 'v':\n",
    "                    grid_row -= 1  \n",
    "                elif grid_row > 0 and map[grid_row - 1][grid_col] == 'b' : \n",
    "                  (temp_box_col , temp_box_row) = change_box_position(board=board , keyclicked=\"up\")\n",
    "                  if  (temp_box_col , temp_box_row) != (box_row , box_col ) :\n",
    "                        grid_row -= 1  \n",
    "                  else\n",
    "\n",
    "    elif event.key == pygame.K_DOWN and grid_row < len(map) - 1 and map[grid_row + 1][grid_col] == 'v':\n",
    "                grid_row += 1  \n",
    "    elif event.key == pygame.K_LEFT and grid_col > 0 and map[grid_row][grid_col - 1] == 'v':\n",
    "                grid_col -= 1  \n",
    "    elif event.key == pygame.K_RIGHT and grid_col < len(map[0]) - 1 and map[grid_row][grid_col + 1] == 'v':\n",
    "                grid_col += 1 "
   ]
  },
  {
   "cell_type": "code",
   "execution_count": 2,
   "metadata": {},
   "outputs": [
    {
     "ename": "SystemExit",
     "evalue": "",
     "output_type": "error",
     "traceback": [
      "An exception has occurred, use %tb to see the full traceback.\n",
      "\u001b[0;31mSystemExit\u001b[0m\n"
     ]
    }
   ],
   "source": [
    "import pygame\n",
    "import sys\n",
    "from Player import Player\n",
    "from box import Box\n",
    "\n",
    "# Your game map\n",
    "game_map = [['o', 'o', 'o', 'o', 'o', 'o'],\n",
    "            ['o', 'v', 'v', 'v', 'o', 'o'],\n",
    "            ['o', 'v', 'b', 'v', 'v', 'o'],\n",
    "            ['o', 'v', 'o', 'v', 'o', 'o'],\n",
    "            ['o', 'p', 'o', 'v', 's', 'o'],\n",
    "            ['o', 'o', 'o', 'o', 'o', 'o']]\n",
    "\n",
    "pygame.init()\n",
    "\n",
    "width, height = 600, 600\n",
    "screen = pygame.display.set_mode((width, height))\n",
    "pygame.display.set_caption(\"Game Example\")\n",
    "\n",
    "# Load images\n",
    "player_img = pygame.image.load('player.png')\n",
    "player_img = pygame.transform.scale(player_img, (100, 100))\n",
    "\n",
    "blue_square_image = pygame.image.load('obstacle.png')\n",
    "blue_square_image = pygame.transform.scale(blue_square_image, (100, 100))\n",
    "\n",
    "box_image = pygame.image.load('box.png')\n",
    "box_image = pygame.transform.scale(box_image, (100, 100))\n",
    "\n",
    "storage_image = pygame.image.load('storage.png')\n",
    "storage_image = pygame.transform.scale(storage_image, (100, 100))\n",
    "\n",
    "# Initialize the player\n",
    "box = Box(game_map , position=(2,2))\n",
    "player = Player(game_map, position=(4, 1) , boxes=[box])\n",
    "\n",
    "running = True\n",
    "while running:\n",
    "    for event in pygame.event.get():\n",
    "        if event.type == pygame.QUIT:\n",
    "            running = False\n",
    "        elif event.type == pygame.KEYDOWN:\n",
    "            key = event.key\n",
    "            game_map = player.move(key)  # Move player based on key press\n",
    "    \n",
    "    screen.fill((0, 0, 0))\n",
    "\n",
    "    # Draw the game map\n",
    "    for j in range(len(game_map)):\n",
    "        for i in range(len(game_map[j])):\n",
    "            if game_map[j][i] == 'o':\n",
    "                screen.blit(blue_square_image, (100 * i, 100 * j))\n",
    "            elif game_map[j][i] == 's':\n",
    "                screen.blit(storage_image, (100 * i, 100 * j))\n",
    "            elif game_map[j][i] == 'b':\n",
    "                screen.blit(box_image, (100 * i, 100 * j))\n",
    "            elif game_map[j][i] == 'p':\n",
    "                screen.blit(player_img, (100 * i, 100 * j))\n",
    "    \n",
    "    pygame.display.flip()\n",
    "\n",
    "pygame.quit()\n",
    "sys.exit()\n"
   ]
  },
  {
   "cell_type": "code",
   "execution_count": null,
   "metadata": {},
   "outputs": [],
   "source": []
  }
 ],
 "metadata": {
  "kernelspec": {
   "display_name": "env",
   "language": "python",
   "name": "python3"
  },
  "language_info": {
   "codemirror_mode": {
    "name": "ipython",
    "version": 3
   },
   "file_extension": ".py",
   "mimetype": "text/x-python",
   "name": "python",
   "nbconvert_exporter": "python",
   "pygments_lexer": "ipython3",
   "version": "3.11.2"
  }
 },
 "nbformat": 4,
 "nbformat_minor": 2
}
